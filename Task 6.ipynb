{
 "cells": [
  {
   "cell_type": "markdown",
   "id": "349505bd",
   "metadata": {},
   "source": [
    "Assignment Task 1: Tuple Basics Create a Python tuple containing the names of your favorite fruits. Write a Python program to print each fruit name from the tuple."
   ]
  },
  {
   "cell_type": "code",
   "execution_count": 1,
   "id": "ced4264e",
   "metadata": {},
   "outputs": [],
   "source": [
    "fruits = (\"Apple\",\"Mango\",\"Orange\",\"Lychee\",\"Star fruit\")"
   ]
  },
  {
   "cell_type": "code",
   "execution_count": 2,
   "id": "6696d415",
   "metadata": {},
   "outputs": [
    {
     "data": {
      "text/plain": [
       "('Apple', 'Mango', 'Orange', 'Lychee', 'Star fruit')"
      ]
     },
     "execution_count": 2,
     "metadata": {},
     "output_type": "execute_result"
    }
   ],
   "source": [
    "fruits"
   ]
  },
  {
   "cell_type": "code",
   "execution_count": 4,
   "id": "63f2471c",
   "metadata": {},
   "outputs": [
    {
     "data": {
      "text/plain": [
       "tuple"
      ]
     },
     "execution_count": 4,
     "metadata": {},
     "output_type": "execute_result"
    }
   ],
   "source": [
    "type(fruits)"
   ]
  },
  {
   "cell_type": "code",
   "execution_count": 6,
   "id": "c717cf9b",
   "metadata": {},
   "outputs": [
    {
     "data": {
      "text/plain": [
       "'Apple'"
      ]
     },
     "execution_count": 6,
     "metadata": {},
     "output_type": "execute_result"
    }
   ],
   "source": [
    "fruits[0]"
   ]
  },
  {
   "cell_type": "code",
   "execution_count": 7,
   "id": "f08d6b10",
   "metadata": {},
   "outputs": [
    {
     "data": {
      "text/plain": [
       "'Mango'"
      ]
     },
     "execution_count": 7,
     "metadata": {},
     "output_type": "execute_result"
    }
   ],
   "source": [
    "fruits[1]"
   ]
  },
  {
   "cell_type": "code",
   "execution_count": 8,
   "id": "66feb37b",
   "metadata": {},
   "outputs": [
    {
     "data": {
      "text/plain": [
       "'Orange'"
      ]
     },
     "execution_count": 8,
     "metadata": {},
     "output_type": "execute_result"
    }
   ],
   "source": [
    "fruits[2]"
   ]
  },
  {
   "cell_type": "code",
   "execution_count": 10,
   "id": "de3fda98",
   "metadata": {},
   "outputs": [
    {
     "data": {
      "text/plain": [
       "'Lychee'"
      ]
     },
     "execution_count": 10,
     "metadata": {},
     "output_type": "execute_result"
    }
   ],
   "source": [
    "fruits[3]"
   ]
  },
  {
   "cell_type": "code",
   "execution_count": 11,
   "id": "148d44a1",
   "metadata": {},
   "outputs": [
    {
     "data": {
      "text/plain": [
       "'Star fruit'"
      ]
     },
     "execution_count": 11,
     "metadata": {},
     "output_type": "execute_result"
    }
   ],
   "source": [
    "fruits[4]"
   ]
  },
  {
   "cell_type": "markdown",
   "id": "37c3b78f",
   "metadata": {},
   "source": [
    "Assignment Task 2:\n",
    "Tuple Operations Given two tuples, write a Python program to concatenate them into a single tuple and then find the length of the resulting tuple."
   ]
  },
  {
   "cell_type": "code",
   "execution_count": 15,
   "id": "bd4be6ef",
   "metadata": {},
   "outputs": [],
   "source": [
    "tuple1 = {1,3,5,7,9,11}\n",
    "tuple2 = {2,4,6,8,10,12}"
   ]
  },
  {
   "cell_type": "code",
   "execution_count": 19,
   "id": "d04bf285",
   "metadata": {},
   "outputs": [
    {
     "data": {
      "text/plain": [
       "set"
      ]
     },
     "execution_count": 19,
     "metadata": {},
     "output_type": "execute_result"
    }
   ],
   "source": [
    "type(tuple1)"
   ]
  },
  {
   "cell_type": "code",
   "execution_count": 20,
   "id": "b6648e6d",
   "metadata": {},
   "outputs": [
    {
     "data": {
      "text/plain": [
       "set"
      ]
     },
     "execution_count": 20,
     "metadata": {},
     "output_type": "execute_result"
    }
   ],
   "source": [
    "type(tuple2)"
   ]
  },
  {
   "cell_type": "code",
   "execution_count": 18,
   "id": "a771fea7",
   "metadata": {},
   "outputs": [
    {
     "ename": "TypeError",
     "evalue": "unsupported operand type(s) for +: 'set' and 'set'",
     "output_type": "error",
     "traceback": [
      "\u001b[1;31m---------------------------------------------------------------------------\u001b[0m",
      "\u001b[1;31mTypeError\u001b[0m                                 Traceback (most recent call last)",
      "Cell \u001b[1;32mIn[18], line 1\u001b[0m\n\u001b[1;32m----> 1\u001b[0m val \u001b[38;5;241m=\u001b[39m tuple1 \u001b[38;5;241m+\u001b[39m tuple2\n",
      "\u001b[1;31mTypeError\u001b[0m: unsupported operand type(s) for +: 'set' and 'set'"
     ]
    }
   ],
   "source": [
    "val = tuple1 + tuple2"
   ]
  },
  {
   "cell_type": "markdown",
   "id": "e884724f",
   "metadata": {},
   "source": [
    "Assignment Task 3:\n",
    "Set Creation Create a Python set containing the first 10 even numbers (2, 4, 6, ...). Write a program to display this set."
   ]
  },
  {
   "cell_type": "code",
   "execution_count": 21,
   "id": "d20e37c8",
   "metadata": {},
   "outputs": [],
   "source": [
    "val = {2,4,6,8,10,12,14,16,18,20}"
   ]
  },
  {
   "cell_type": "code",
   "execution_count": 22,
   "id": "2881ba89",
   "metadata": {},
   "outputs": [
    {
     "data": {
      "text/plain": [
       "{2, 4, 6, 8, 10, 12, 14, 16, 18, 20}"
      ]
     },
     "execution_count": 22,
     "metadata": {},
     "output_type": "execute_result"
    }
   ],
   "source": [
    "val"
   ]
  },
  {
   "cell_type": "code",
   "execution_count": 23,
   "id": "d8fd65f5",
   "metadata": {},
   "outputs": [
    {
     "data": {
      "text/plain": [
       "set"
      ]
     },
     "execution_count": 23,
     "metadata": {},
     "output_type": "execute_result"
    }
   ],
   "source": [
    "type(val)"
   ]
  },
  {
   "cell_type": "markdown",
   "id": "bc450a5c",
   "metadata": {},
   "source": [
    "Assignment Task 4:\n",
    "Set Operations Given two sets, write a Python program to find the union, intersection, and difference of these sets."
   ]
  },
  {
   "cell_type": "code",
   "execution_count": 25,
   "id": "ee240972",
   "metadata": {},
   "outputs": [],
   "source": [
    "set1 = {3,4,5,6,7,8,9,10}\n",
    "set2 = {6,7,8,9,10,11,}"
   ]
  },
  {
   "cell_type": "code",
   "execution_count": 26,
   "id": "e3369dd9",
   "metadata": {},
   "outputs": [
    {
     "data": {
      "text/plain": [
       "{3, 4, 5, 6, 7, 8, 9, 10, 11}"
      ]
     },
     "execution_count": 26,
     "metadata": {},
     "output_type": "execute_result"
    }
   ],
   "source": [
    "set1.union(set2)"
   ]
  },
  {
   "cell_type": "code",
   "execution_count": 27,
   "id": "42ee6909",
   "metadata": {},
   "outputs": [
    {
     "data": {
      "text/plain": [
       "{6, 7, 8, 9, 10}"
      ]
     },
     "execution_count": 27,
     "metadata": {},
     "output_type": "execute_result"
    }
   ],
   "source": [
    "set1.intersection(set2)"
   ]
  },
  {
   "cell_type": "code",
   "execution_count": 28,
   "id": "2a56c1c3",
   "metadata": {},
   "outputs": [
    {
     "data": {
      "text/plain": [
       "{3, 4, 5}"
      ]
     },
     "execution_count": 28,
     "metadata": {},
     "output_type": "execute_result"
    }
   ],
   "source": [
    "set1.difference(set2)"
   ]
  },
  {
   "cell_type": "markdown",
   "id": "4a8dd886",
   "metadata": {},
   "source": [
    "Assignment Task 5:\n",
    "Tuple and Set Conversion Write a Python program that takes a tuple of integers and converts it into a set. Then, find and print the maximum and minimum values from the set."
   ]
  },
  {
   "cell_type": "code",
   "execution_count": 29,
   "id": "fc8daa42",
   "metadata": {},
   "outputs": [],
   "source": [
    "x = (2,8,4,5,3,6,7,9,10,11,18)"
   ]
  },
  {
   "cell_type": "code",
   "execution_count": 30,
   "id": "876c74bd",
   "metadata": {},
   "outputs": [
    {
     "data": {
      "text/plain": [
       "tuple"
      ]
     },
     "execution_count": 30,
     "metadata": {},
     "output_type": "execute_result"
    }
   ],
   "source": [
    "type(x)"
   ]
  },
  {
   "cell_type": "code",
   "execution_count": 31,
   "id": "26200426",
   "metadata": {},
   "outputs": [],
   "source": [
    "val = set(x)"
   ]
  },
  {
   "cell_type": "code",
   "execution_count": 32,
   "id": "ef794d04",
   "metadata": {},
   "outputs": [
    {
     "data": {
      "text/plain": [
       "{2, 3, 4, 5, 6, 7, 8, 9, 10, 11, 18}"
      ]
     },
     "execution_count": 32,
     "metadata": {},
     "output_type": "execute_result"
    }
   ],
   "source": [
    "val"
   ]
  },
  {
   "cell_type": "code",
   "execution_count": 33,
   "id": "0d676f38",
   "metadata": {},
   "outputs": [
    {
     "data": {
      "text/plain": [
       "set"
      ]
     },
     "execution_count": 33,
     "metadata": {},
     "output_type": "execute_result"
    }
   ],
   "source": [
    "type(val)"
   ]
  },
  {
   "cell_type": "code",
   "execution_count": 34,
   "id": "ff50ddab",
   "metadata": {},
   "outputs": [
    {
     "data": {
      "text/plain": [
       "18"
      ]
     },
     "execution_count": 34,
     "metadata": {},
     "output_type": "execute_result"
    }
   ],
   "source": [
    "max(val)"
   ]
  },
  {
   "cell_type": "code",
   "execution_count": 35,
   "id": "f456b515",
   "metadata": {},
   "outputs": [
    {
     "data": {
      "text/plain": [
       "2"
      ]
     },
     "execution_count": 35,
     "metadata": {},
     "output_type": "execute_result"
    }
   ],
   "source": [
    "min(val)"
   ]
  },
  {
   "cell_type": "markdown",
   "id": "b56584a3",
   "metadata": {},
   "source": [
    "Assignment Task 6:\n",
    "Tuple Immutability Explain the concept of immutability in Python tuples with examples. Discuss why tuples are considered immutable data structures.\n",
    "\n",
    "** yes Tuple is Immutuable because the we cannot modify or which cannot be changed"
   ]
  },
  {
   "cell_type": "code",
   "execution_count": 36,
   "id": "5cea9bbf",
   "metadata": {},
   "outputs": [],
   "source": [
    "tup = (1,2,3,4)"
   ]
  },
  {
   "cell_type": "code",
   "execution_count": 37,
   "id": "f6267aff",
   "metadata": {},
   "outputs": [
    {
     "data": {
      "text/plain": [
       "tuple"
      ]
     },
     "execution_count": 37,
     "metadata": {},
     "output_type": "execute_result"
    }
   ],
   "source": [
    "type(tup)"
   ]
  },
  {
   "cell_type": "code",
   "execution_count": 38,
   "id": "7db24537",
   "metadata": {},
   "outputs": [
    {
     "ename": "AttributeError",
     "evalue": "'tuple' object has no attribute 'add'",
     "output_type": "error",
     "traceback": [
      "\u001b[1;31m---------------------------------------------------------------------------\u001b[0m",
      "\u001b[1;31mAttributeError\u001b[0m                            Traceback (most recent call last)",
      "Cell \u001b[1;32mIn[38], line 1\u001b[0m\n\u001b[1;32m----> 1\u001b[0m tup\u001b[38;5;241m.\u001b[39madd(\u001b[38;5;241m5\u001b[39m)\n",
      "\u001b[1;31mAttributeError\u001b[0m: 'tuple' object has no attribute 'add'"
     ]
    }
   ],
   "source": [
    "tup.add(5)"
   ]
  },
  {
   "cell_type": "code",
   "execution_count": 39,
   "id": "168ddf9b",
   "metadata": {},
   "outputs": [
    {
     "ename": "AttributeError",
     "evalue": "'tuple' object has no attribute 'remove'",
     "output_type": "error",
     "traceback": [
      "\u001b[1;31m---------------------------------------------------------------------------\u001b[0m",
      "\u001b[1;31mAttributeError\u001b[0m                            Traceback (most recent call last)",
      "Cell \u001b[1;32mIn[39], line 1\u001b[0m\n\u001b[1;32m----> 1\u001b[0m tup\u001b[38;5;241m.\u001b[39mremove(\u001b[38;5;241m1\u001b[39m)\n",
      "\u001b[1;31mAttributeError\u001b[0m: 'tuple' object has no attribute 'remove'"
     ]
    }
   ],
   "source": [
    "tup.remove(1)"
   ]
  },
  {
   "cell_type": "markdown",
   "id": "8b46f70e",
   "metadata": {},
   "source": [
    "** Hence we cannot have any changes in them once they are created"
   ]
  },
  {
   "cell_type": "markdown",
   "id": "ffd08c82",
   "metadata": {},
   "source": [
    "# Assignment Task 7:\n",
    "Set Operations and Methods Write a Python program that takes a set of numbers and performs the following operations:\n",
    "\n",
    "Add a new number to the set.\n",
    "\n",
    "Remove a number from the set.\n",
    "\n",
    "Check if a specific number is in the set.\n",
    "\n",
    "Find the size of the set."
   ]
  },
  {
   "cell_type": "code",
   "execution_count": 41,
   "id": "723f82a4",
   "metadata": {},
   "outputs": [],
   "source": [
    "n = {1,2,4,6,8,10,12}"
   ]
  },
  {
   "cell_type": "code",
   "execution_count": 42,
   "id": "9639f7fe",
   "metadata": {},
   "outputs": [
    {
     "data": {
      "text/plain": [
       "{1, 2, 4, 6, 8, 10, 12}"
      ]
     },
     "execution_count": 42,
     "metadata": {},
     "output_type": "execute_result"
    }
   ],
   "source": [
    "n"
   ]
  },
  {
   "cell_type": "code",
   "execution_count": 43,
   "id": "14df2dda",
   "metadata": {},
   "outputs": [],
   "source": [
    "n.add(3)"
   ]
  },
  {
   "cell_type": "code",
   "execution_count": 44,
   "id": "81914176",
   "metadata": {},
   "outputs": [
    {
     "data": {
      "text/plain": [
       "{1, 2, 3, 4, 6, 8, 10, 12}"
      ]
     },
     "execution_count": 44,
     "metadata": {},
     "output_type": "execute_result"
    }
   ],
   "source": [
    "n"
   ]
  },
  {
   "cell_type": "code",
   "execution_count": 45,
   "id": "26e8f2f1",
   "metadata": {},
   "outputs": [],
   "source": [
    "n.remove(4)"
   ]
  },
  {
   "cell_type": "code",
   "execution_count": 46,
   "id": "dbad309d",
   "metadata": {},
   "outputs": [
    {
     "data": {
      "text/plain": [
       "{1, 2, 3, 6, 8, 10, 12}"
      ]
     },
     "execution_count": 46,
     "metadata": {},
     "output_type": "execute_result"
    }
   ],
   "source": [
    "n"
   ]
  },
  {
   "cell_type": "code",
   "execution_count": 47,
   "id": "486b3502",
   "metadata": {},
   "outputs": [
    {
     "data": {
      "text/plain": [
       "True"
      ]
     },
     "execution_count": 47,
     "metadata": {},
     "output_type": "execute_result"
    }
   ],
   "source": [
    "8 in n"
   ]
  },
  {
   "cell_type": "code",
   "execution_count": 48,
   "id": "3b998fd7",
   "metadata": {},
   "outputs": [
    {
     "data": {
      "text/plain": [
       "False"
      ]
     },
     "execution_count": 48,
     "metadata": {},
     "output_type": "execute_result"
    }
   ],
   "source": [
    "11 in n"
   ]
  },
  {
   "cell_type": "code",
   "execution_count": 49,
   "id": "d39fbc30",
   "metadata": {},
   "outputs": [
    {
     "data": {
      "text/plain": [
       "7"
      ]
     },
     "execution_count": 49,
     "metadata": {},
     "output_type": "execute_result"
    }
   ],
   "source": [
    "len(n)"
   ]
  },
  {
   "cell_type": "markdown",
   "id": "f9f01cf0",
   "metadata": {},
   "source": [
    "Assignment Task 8:\n",
    "Tuple Slicing Given a tuple of 10 elements, write a Python program to print the elements from the 3rd to the 7th position using slicing."
   ]
  },
  {
   "cell_type": "code",
   "execution_count": 50,
   "id": "e69df8b2",
   "metadata": {},
   "outputs": [],
   "source": [
    "list1 = [1,2,3,4,4,5,5,6,6]"
   ]
  },
  {
   "cell_type": "code",
   "execution_count": 53,
   "id": "08fbab25",
   "metadata": {},
   "outputs": [],
   "source": [
    "n = set(list1)"
   ]
  },
  {
   "cell_type": "code",
   "execution_count": 54,
   "id": "7ff1c632",
   "metadata": {},
   "outputs": [
    {
     "data": {
      "text/plain": [
       "{1, 2, 3, 4, 5, 6}"
      ]
     },
     "execution_count": 54,
     "metadata": {},
     "output_type": "execute_result"
    }
   ],
   "source": [
    "n"
   ]
  },
  {
   "cell_type": "code",
   "execution_count": 57,
   "id": "1c9fd026",
   "metadata": {},
   "outputs": [],
   "source": [
    "duplicate = len(list1) - len(n)"
   ]
  },
  {
   "cell_type": "code",
   "execution_count": 58,
   "id": "d0a993ac",
   "metadata": {},
   "outputs": [
    {
     "data": {
      "text/plain": [
       "3"
      ]
     },
     "execution_count": 58,
     "metadata": {},
     "output_type": "execute_result"
    }
   ],
   "source": [
    "duplicate"
   ]
  },
  {
   "cell_type": "markdown",
   "id": "ef4812ca",
   "metadata": {},
   "source": [
    "Assignment Task 10:\n",
    "Tuple and Set Combinations Create a tuple containing the names of your friend's favorite movies and a set containing the names of your favorite movies. Write a Python program to find and display common elements (movies that feature your"
   ]
  },
  {
   "cell_type": "code",
   "execution_count": 59,
   "id": "c6eadd16",
   "metadata": {},
   "outputs": [],
   "source": [
    "friend_movies = (\"Batman\",\"Julyai\",\"ZNMD\",\"Inception\",\"Insidious\",\"Avengers\")"
   ]
  },
  {
   "cell_type": "code",
   "execution_count": 61,
   "id": "8e3e1170",
   "metadata": {},
   "outputs": [],
   "source": [
    "common = set(friend_movies).intersection('my_movies')"
   ]
  },
  {
   "cell_type": "code",
   "execution_count": 62,
   "id": "b6fe486a",
   "metadata": {},
   "outputs": [
    {
     "data": {
      "text/plain": [
       "set()"
      ]
     },
     "execution_count": 62,
     "metadata": {},
     "output_type": "execute_result"
    }
   ],
   "source": [
    "common"
   ]
  },
  {
   "cell_type": "code",
   "execution_count": null,
   "id": "2e764f4a",
   "metadata": {},
   "outputs": [],
   "source": []
  }
 ],
 "metadata": {
  "kernelspec": {
   "display_name": "Python 3 (ipykernel)",
   "language": "python",
   "name": "python3"
  },
  "language_info": {
   "codemirror_mode": {
    "name": "ipython",
    "version": 3
   },
   "file_extension": ".py",
   "mimetype": "text/x-python",
   "name": "python",
   "nbconvert_exporter": "python",
   "pygments_lexer": "ipython3",
   "version": "3.11.4"
  }
 },
 "nbformat": 4,
 "nbformat_minor": 5
}
